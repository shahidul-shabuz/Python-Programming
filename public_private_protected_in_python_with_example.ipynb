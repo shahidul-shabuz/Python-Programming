{
  "cells": [
    {
      "cell_type": "markdown",
      "metadata": {
        "id": "view-in-github",
        "colab_type": "text"
      },
      "source": [
        "<a href=\"https://colab.research.google.com/github/shahidul-shabuz/Python-Programming/blob/main/public_private_protected_in_python_with_example.ipynb\" target=\"_parent\"><img src=\"https://colab.research.google.com/assets/colab-badge.svg\" alt=\"Open In Colab\"/></a>"
      ]
    },
    {
      "cell_type": "markdown",
      "source": [
        "Python does not have any built-in access modifiers. However, there is a naming convention that is used to emulate the behavior of public, protected, and private access modifiers.\n",
        "\n",
        "* **Public** members are accessible from anywhere, including outside the class.\n",
        "* **Protected** members are accessible from within the class and from any classes that inherit from the current class.\n",
        "* **Private** members are only accessible from within the class.\n",
        "\n",
        "Here is an example of how these access modifiers can be used:"
      ],
      "metadata": {
        "id": "wIoKuyhzvkjb"
      }
    },
    {
      "cell_type": "code",
      "source": [
        "class Person:\n",
        "\n",
        "    def __init__(self, name, age):\n",
        "        self.name = name  # public\n",
        "        self._age = age  # protected\n",
        "        self.__id = id(self)  # private\n",
        "\n",
        "    def get_name(self):\n",
        "        return self.name\n",
        "\n",
        "    def set_age(self, age):\n",
        "        self._age = age\n",
        "\n",
        "    def get_id(self):\n",
        "        return self.__id\n",
        "\n",
        "\n",
        "class Student(Person):\n",
        "\n",
        "    def __init__(self, name, age, grade):\n",
        "        super().__init__(name, age)\n",
        "        self.grade = grade  # public\n",
        "\n",
        "\n",
        "# Access public members\n",
        "person = Person(\"John Doe\", 30)\n",
        "print(person.name)  # John Doe\n",
        "\n",
        "# Access protected members\n",
        "student = Student(\"Jane Doe\", 20, 10)\n",
        "print(student._age)  # 20\n",
        "\n",
        "# Access private members\n",
        "# This will raise an error\n",
        "# print(student.__id)"
      ],
      "outputs": [],
      "execution_count": null,
      "metadata": {
        "id": "mHFPKBpnvkji"
      }
    },
    {
      "cell_type": "markdown",
      "source": [
        "As you can see, the public members can be accessed from anywhere, including outside the class. The protected members can be accessed from within the class and from any classes that inherit from the current class. The private members can only be accessed from within the class.\n",
        "\n",
        "It is important to note that the naming convention for public, protected, and private members is not enforced by the Python interpreter. It is up to the programmer to follow the convention to ensure that the members are accessed in the intended way."
      ],
      "metadata": {
        "id": "lId0GcZ9vkjj"
      }
    },
    {
      "cell_type": "markdown",
      "source": [
        "More Example:"
      ],
      "metadata": {
        "id": "tHfC2Zaowa7K"
      }
    },
    {
      "cell_type": "code",
      "source": [
        "class BankAccount:\n",
        "\n",
        "    def __init__(self, balance):\n",
        "        self.balance = balance  # public\n",
        "        self.__secret_key = \"123456\"  # private\n",
        "\n",
        "    def deposit(self, amount):\n",
        "        self.balance += amount\n",
        "\n",
        "    def withdraw(self, amount):\n",
        "        if amount > self.balance:\n",
        "            raise ValueError(\"Insufficient funds\")\n",
        "\n",
        "        self.balance -= amount\n",
        "\n",
        "    def get_balance(self):\n",
        "        return self.balance\n",
        "\n",
        "    def get_secret_key(self):\n",
        "        # This will raise an error\n",
        "        # print(self.__secret_key)\n",
        "\n",
        "        raise AttributeError(\"'BankAccount' object has no attribute '__secret_key'\")\n",
        "\n",
        "\n",
        "# Create a bank account\n",
        "account = BankAccount(1000)\n",
        "\n",
        "# Deposit money\n",
        "account.deposit(500)\n",
        "\n",
        "# Withdraw money\n",
        "account.withdraw(200)\n",
        "\n",
        "# Get the balance\n",
        "print(account.get_balance())  # 1300\n",
        "\n",
        "# Try to access the secret key\n",
        "# This will raise an error\n",
        "# print(account.__secret_key)\n"
      ],
      "metadata": {
        "id": "H8-2UicXweSZ"
      },
      "execution_count": null,
      "outputs": []
    },
    {
      "cell_type": "markdown",
      "source": [
        "As you can see, the private member __secret_key cannot be accessed from outside the class. If you try to access it, an error will be raised. This helps to protect the secret key from being accessed by unauthorized users."
      ],
      "metadata": {
        "id": "9j3u6qvywfgJ"
      }
    }
  ],
  "metadata": {
    "colab": {
      "provenance": [],
      "include_colab_link": true
    },
    "kernelspec": {
      "display_name": "Python 3",
      "name": "python3"
    }
  },
  "nbformat": 4,
  "nbformat_minor": 0
}