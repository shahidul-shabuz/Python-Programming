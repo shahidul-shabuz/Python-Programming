{
  "nbformat": 4,
  "nbformat_minor": 0,
  "metadata": {
    "colab": {
      "provenance": [],
      "authorship_tag": "ABX9TyMCkH5xQowLoXORd7e0Rffo",
      "include_colab_link": true
    },
    "kernelspec": {
      "name": "python3",
      "display_name": "Python 3"
    },
    "language_info": {
      "name": "python"
    }
  },
  "cells": [
    {
      "cell_type": "markdown",
      "metadata": {
        "id": "view-in-github",
        "colab_type": "text"
      },
      "source": [
        "<a href=\"https://colab.research.google.com/github/shahidul-shabuz/Python-Programming/blob/main/Python_function.ipynb\" target=\"_parent\"><img src=\"https://colab.research.google.com/assets/colab-badge.svg\" alt=\"Open In Colab\"/></a>"
      ]
    },
    {
      "cell_type": "markdown",
      "source": [
        "A function in Python is a block of code that can be called and executed whenever it is needed. Functions help you to organize your code and make it more readable and reusable. To create a function in Python, you use the def keyword, followed by the function name, the parameters in parentheses, and a colon. Here's an example of a simple function in Python:"
      ],
      "metadata": {
        "id": "lXFeac2oHjMm"
      }
    },
    {
      "cell_type": "code",
      "source": [
        "def greet(name):\n",
        "    print(\"Hello, \" + name + \"!\")\n",
        "\n",
        "greet(\"John\")\n"
      ],
      "metadata": {
        "colab": {
          "base_uri": "https://localhost:8080/"
        },
        "id": "jpis36s9HuVV",
        "outputId": "a4e0e5a5-cfa9-4426-9c59-14f68166062d"
      },
      "execution_count": null,
      "outputs": [
        {
          "output_type": "stream",
          "name": "stdout",
          "text": [
            "Hello, John!\n"
          ]
        }
      ]
    },
    {
      "cell_type": "markdown",
      "source": [
        "When you run this code, it will output \"Hello, John!\" to the console. In this example, the greet function takes a single argument name, and it prints a greeting message to the console.\n",
        "\n",
        "Functions can return a value to the calling code using the return keyword. For example:"
      ],
      "metadata": {
        "id": "dXvJxU_HIldE"
      }
    },
    {
      "cell_type": "code",
      "source": [
        "def add(a, b):\n",
        "    return a + b\n",
        "\n",
        "result = add(5, 3)\n",
        "print(result)\n"
      ],
      "metadata": {
        "colab": {
          "base_uri": "https://localhost:8080/"
        },
        "id": "HwX7lPSSIm_c",
        "outputId": "dd9b7a19-951e-4af9-dcdf-8eb7740cfecc"
      },
      "execution_count": null,
      "outputs": [
        {
          "output_type": "stream",
          "name": "stdout",
          "text": [
            "8\n"
          ]
        }
      ]
    },
    {
      "cell_type": "markdown",
      "source": [
        "In this example, the add function takes two arguments a and b, and it returns their sum. The value returned by the function is assigned to the result variable, and it can be used in the calling code.\n",
        "\n",
        "You can also specify default values for function parameters, which will be used if no value is provided for that parameter. For example:"
      ],
      "metadata": {
        "id": "am8qdSlZJ1WZ"
      }
    },
    {
      "cell_type": "code",
      "source": [
        "def divide(a, b=1):\n",
        "    return a / b\n",
        "\n",
        "result = divide(5)\n",
        "print(result)\n"
      ],
      "metadata": {
        "colab": {
          "base_uri": "https://localhost:8080/"
        },
        "id": "THAbVikQJ2V0",
        "outputId": "62b8ef0f-2e00-40a1-95e7-7cdd7c938646"
      },
      "execution_count": null,
      "outputs": [
        {
          "output_type": "stream",
          "name": "stdout",
          "text": [
            "5.0\n"
          ]
        }
      ]
    },
    {
      "cell_type": "markdown",
      "source": [
        "In this example, the divide function takes two parameters a and b, and b has a default value of 1. If no value is provided for b, the default value will be used."
      ],
      "metadata": {
        "id": "Rcgtq6hAJ6VU"
      }
    },
    {
      "cell_type": "markdown",
      "source": [
        "pass statement: In Python, you can define an empty function using the pass statement. The pass statement is a placeholder that does nothing, and it's used to define a function that you want to implement later. Here's an example:"
      ],
      "metadata": {
        "id": "V__mkHNdLT1F"
      }
    },
    {
      "cell_type": "code",
      "source": [
        "def do_nothing():\n",
        "    pass\n"
      ],
      "metadata": {
        "id": "U7e9h6I5LY84"
      },
      "execution_count": null,
      "outputs": []
    },
    {
      "cell_type": "markdown",
      "source": [
        "Function documentation: You can add documentation to your functions using the triple-quoted string (often referred to as a docstring) immediately after the function definition. The docstring provides information about what the function does, its arguments, and the return value. Here's an example:"
      ],
      "metadata": {
        "id": "Zl6_uIx_LiLe"
      }
    },
    {
      "cell_type": "code",
      "source": [
        "def add(a, b):\n",
        "    \"\"\"\n",
        "    This function returns the sum of two numbers.\n",
        "\n",
        "    Arguments:\n",
        "    a -- the first number\n",
        "    b -- the second number\n",
        "\n",
        "    Returns:\n",
        "    The sum of the two numbers.\n",
        "    \"\"\"\n",
        "    return a + b\n"
      ],
      "metadata": {
        "id": "EoTKL2tiLjSL"
      },
      "execution_count": null,
      "outputs": []
    },
    {
      "cell_type": "markdown",
      "source": [
        "Function arguments: In Python, you can pass arguments to a function in several ways, such as positional arguments, keyword arguments, and arbitrary argument lists. Here's an example that demonstrates the different ways of passing arguments:"
      ],
      "metadata": {
        "id": "K4LqMDbdLmdk"
      }
    },
    {
      "cell_type": "code",
      "source": [
        "def greet(first_name, last_name, title='Mr.'):\n",
        "    print(title, first_name, last_name)\n",
        "\n",
        "# Positional arguments\n",
        "greet('John', 'Doe')\n",
        "# Output: Mr. John Doe\n",
        "\n",
        "# Keyword arguments\n",
        "greet(first_name='Jane', last_name='Doe')\n",
        "# Output: Mr. Jane Doe\n",
        "\n",
        "# Mix of positional and keyword arguments\n",
        "greet('John', 'Doe', title='Dr.')\n",
        "# Output: Dr. John Doe\n"
      ],
      "metadata": {
        "colab": {
          "base_uri": "https://localhost:8080/"
        },
        "id": "qXQTwaS6Lt2E",
        "outputId": "1f240975-074a-40df-e588-a0685903cb2d"
      },
      "execution_count": null,
      "outputs": [
        {
          "output_type": "stream",
          "name": "stdout",
          "text": [
            "Mr. John Doe\n",
            "Mr. Jane Doe\n",
            "Dr. John Doe\n"
          ]
        }
      ]
    },
    {
      "cell_type": "markdown",
      "source": [
        "*args and **kwargs: In Python, you can use *args and **kwargs to pass an arbitrary number of arguments to a function. *args is used to pass a variable number of positional arguments, and **kwargs is used to pass a variable number of keyword arguments. Here's an example:"
      ],
      "metadata": {
        "id": "N8alQVurLx8l"
      }
    },
    {
      "cell_type": "code",
      "source": [
        "def print_args(*args, **kwargs):\n",
        "    print('Positional arguments:', args)\n",
        "    print('Keyword arguments:', kwargs)\n",
        "\n",
        "print_args(1, 2, 3, name='John', age=30)\n",
        "# Output:\n",
        "# Positional arguments: (1, 2, 3)\n",
        "# Keyword arguments: {'name': 'John', 'age': 30}\n"
      ],
      "metadata": {
        "colab": {
          "base_uri": "https://localhost:8080/"
        },
        "id": "hetswVjgL8B7",
        "outputId": "a311b7a3-d33e-4a1d-d089-e9b1b85bdc42"
      },
      "execution_count": null,
      "outputs": [
        {
          "output_type": "stream",
          "name": "stdout",
          "text": [
            "Positional arguments: (1, 2, 3)\n",
            "Keyword arguments: {'name': 'John', 'age': 30}\n"
          ]
        }
      ]
    },
    {
      "cell_type": "markdown",
      "source": [
        "Function scope: In Python, variables defined inside a function have a local scope and they are not accessible from outside the function. To access a variable defined outside a function, you need to use the global keyword. Here's an example:"
      ],
      "metadata": {
        "id": "-63FiXv5MDQU"
      }
    },
    {
      "cell_type": "code",
      "source": [
        "message = 'Hello, World!'\n",
        "\n",
        "def print_message():\n",
        "    print(message)\n",
        "\n",
        "print_message()\n",
        "# Output: Hello, World!\n"
      ],
      "metadata": {
        "colab": {
          "base_uri": "https://localhost:8080/"
        },
        "id": "lM2cjWz3MECD",
        "outputId": "474b0f9a-3952-44f1-9993-9458aa4b25d8"
      },
      "execution_count": null,
      "outputs": [
        {
          "output_type": "stream",
          "name": "stdout",
          "text": [
            "Hello, World!\n"
          ]
        }
      ]
    },
    {
      "cell_type": "markdown",
      "source": [
        "Recursion: A function can call itself, and this technique is called recursion. Recursion is useful for solving problems that can be broken down into smaller, similar subproblems. For example, consider the problem of computing the factorial of a number. You can solve this problem using recursion as follows:"
      ],
      "metadata": {
        "id": "_vc0iq9hQE51"
      }
    },
    {
      "cell_type": "code",
      "source": [
        "def factorial(n):\n",
        "    if n == 0:\n",
        "        return 1\n",
        "    else:\n",
        "        return n * factorial(n-1)\n",
        "\n",
        "print(factorial(5))\n",
        "# Output: 120\n"
      ],
      "metadata": {
        "colab": {
          "base_uri": "https://localhost:8080/"
        },
        "id": "Amqzx3vaQFna",
        "outputId": "593165de-6a58-498b-9a51-83e6fa7f92c7"
      },
      "execution_count": null,
      "outputs": [
        {
          "output_type": "stream",
          "name": "stdout",
          "text": [
            "120\n"
          ]
        }
      ]
    },
    {
      "cell_type": "markdown",
      "source": [
        "In this example, the factorial function calls itself with n-1 until n reaches 0, at which point it returns 1."
      ],
      "metadata": {
        "id": "4vgW5kYQQOPy"
      }
    },
    {
      "cell_type": "markdown",
      "source": [
        "In Python, lambda is a keyword used to create anonymous functions, which are functions without a name. Anonymous functions are also known as lambda functions.\n",
        "\n",
        "Lambda functions are small, one-line functions that are used when you need a function for a short period of time. They are usually used as a function argument in other functions, like the map(), filter() or reduce() functions.\n",
        "\n",
        "The syntax for a lambda function is:"
      ],
      "metadata": {
        "id": "5JGCyNZil_P0"
      }
    },
    {
      "cell_type": "code",
      "source": [
        "lambda arguments: expression\n"
      ],
      "metadata": {
        "id": "DTzhCvMlmB2R"
      },
      "execution_count": null,
      "outputs": []
    },
    {
      "cell_type": "code",
      "source": [
        "add = lambda a, b: a + b\n",
        "print(add(5, 3))\n",
        "# Output: 8\n"
      ],
      "metadata": {
        "colab": {
          "base_uri": "https://localhost:8080/"
        },
        "id": "AdgJuNr4QSUB",
        "outputId": "803d86d1-3cd4-47bd-d561-c3b3b68452a4"
      },
      "execution_count": null,
      "outputs": [
        {
          "output_type": "stream",
          "name": "stdout",
          "text": [
            "8\n"
          ]
        }
      ]
    },
    {
      "cell_type": "markdown",
      "source": [
        "In this example, the lambda function is equivalent to the following named function:"
      ],
      "metadata": {
        "id": "03cQ25_RQYd5"
      }
    },
    {
      "cell_type": "code",
      "source": [
        "def add(a, b):\n",
        "    return a + b\n"
      ],
      "metadata": {
        "id": "kI6i__O-Qais"
      },
      "execution_count": null,
      "outputs": []
    },
    {
      "cell_type": "markdown",
      "source": [
        "Here are some additional details about lambda functions in Python:\n",
        "\n",
        "They are used as throwaway functions, meaning you only use them once, usually as a argument to a higher-order function.\n",
        "They are also called anonymous functions because they are not bound to a name.\n",
        "They are limited to a single expression, which is evaluated and returned when the function is called.\n",
        "They can take any number of arguments, but can only have one expression.\n",
        "Lambda functions are not meant to be reused, so it's recommended to use them for simple tasks.\n",
        "It's worth noting that while lambda functions can be useful in some cases, it's generally a good idea to use regular named functions for more complex tasks, since named functions are easier to understand and maintain.\n",
        "\n",
        "Here's an example of using a lambda function with the filter() function:"
      ],
      "metadata": {
        "id": "1q4dTcI2nax5"
      }
    },
    {
      "cell_type": "code",
      "source": [
        "numbers = [1, 2, 3, 4, 5, 6, 7, 8, 9, 10]\n",
        "even_numbers = list(filter(lambda x: x % 2 == 0, numbers))\n",
        "print(even_numbers) # Output: [2, 4, 6, 8, 10]\n"
      ],
      "metadata": {
        "colab": {
          "base_uri": "https://localhost:8080/"
        },
        "id": "CcEVr09znc9K",
        "outputId": "83510936-b623-497b-8b0b-dd7b1e7f92d7"
      },
      "execution_count": null,
      "outputs": [
        {
          "output_type": "stream",
          "name": "stdout",
          "text": [
            "[2, 4, 6, 8, 10]\n"
          ]
        }
      ]
    },
    {
      "cell_type": "markdown",
      "source": [
        "In this example, the filter() function is used to filter a list of numbers and return only the even numbers. The lambda function lambda x: x % 2 == 0 is used as the argument to filter() and is applied to each element in the list numbers. The function returns True for even numbers and False for odd numbers. The filter() function then returns a new list of numbers that are even."
      ],
      "metadata": {
        "id": "_yEFETiInm-S"
      }
    },
    {
      "cell_type": "markdown",
      "source": [
        "function to accept a variable number of arguments by using the *args syntax, like this:"
      ],
      "metadata": {
        "id": "8LPIBu-7ow44"
      }
    },
    {
      "cell_type": "code",
      "source": [
        "def add(*args):\n",
        "    total = 0\n",
        "    for arg in args:\n",
        "        total += arg\n",
        "    return total\n",
        "\n",
        "result = add(1, 2, 3, 4, 5)\n",
        "print(result) # Output: 15\n"
      ],
      "metadata": {
        "colab": {
          "base_uri": "https://localhost:8080/"
        },
        "id": "706Nosimox3J",
        "outputId": "eac144f3-b730-4f17-c190-207a6cbebd19"
      },
      "execution_count": null,
      "outputs": [
        {
          "output_type": "stream",
          "name": "stdout",
          "text": [
            "15\n"
          ]
        }
      ]
    },
    {
      "cell_type": "markdown",
      "source": [
        "In this example, the function add() uses the *args syntax to accept a variable number of arguments, which are passed as a tuple to the function. The function then loops through the tuple and adds up the values, storing the result in the variable total. Finally, the function returns the value of total."
      ],
      "metadata": {
        "id": "ssMzjYWGo23T"
      }
    },
    {
      "cell_type": "markdown",
      "source": [
        "a Python function that takes a string as an argument and returns the number of vowels in the string:"
      ],
      "metadata": {
        "id": "1HZgDEyfo4bs"
      }
    },
    {
      "cell_type": "code",
      "source": [
        "def count_vowels(string):\n",
        "    vowels = \"aeiouAEIOU\"\n",
        "    count = 0\n",
        "    for char in string:\n",
        "        if char in vowels:\n",
        "            count += 1\n",
        "    return count\n",
        "\n",
        "result = count_vowels(\"Hello World!\")\n",
        "print(result) # Output: 3\n"
      ],
      "metadata": {
        "colab": {
          "base_uri": "https://localhost:8080/"
        },
        "id": "9theOSflrxiq",
        "outputId": "4408909f-47b7-40db-ce5d-ce0ef35c7b6a"
      },
      "execution_count": null,
      "outputs": [
        {
          "output_type": "stream",
          "name": "stdout",
          "text": [
            "3\n"
          ]
        }
      ]
    },
    {
      "cell_type": "markdown",
      "source": [
        "In this example, the function count_vowels() takes a single argument string and uses a for loop to iterate over each character in the string. The function defines a string of vowels and uses the in operator to check if each character in the input string is a vowel. If the character is a vowel, the function increments the count by 1. Finally, the function returns the total number of vowels in the string."
      ],
      "metadata": {
        "id": "DxcdYvq-sZiR"
      }
    },
    {
      "cell_type": "markdown",
      "source": [
        "a Python function that takes a list of numbers as an argument and returns the largest number in the list:"
      ],
      "metadata": {
        "id": "1us3BpNOs55P"
      }
    },
    {
      "cell_type": "code",
      "source": [
        "def find_largest(numbers):\n",
        "    largest = numbers[0]\n",
        "    for number in numbers:\n",
        "        if number > largest:\n",
        "            largest = number\n",
        "    return largest\n",
        "\n",
        "result = find_largest([1, 2, 3, 4, 5, 6, 7, 8, 9, 10])\n",
        "print(result) # Output: 10\n"
      ],
      "metadata": {
        "colab": {
          "base_uri": "https://localhost:8080/"
        },
        "id": "8yInoH0Ds61S",
        "outputId": "21f3886c-9067-4f9d-dee8-f9aa997d3e7a"
      },
      "execution_count": null,
      "outputs": [
        {
          "output_type": "stream",
          "name": "stdout",
          "text": [
            "10\n"
          ]
        }
      ]
    },
    {
      "cell_type": "markdown",
      "source": [
        "In this example, the function find_largest() takes a single argument numbers, which is a list of numbers. The function uses a for loop to iterate over each number in the list, and uses an if statement to check if the current number is greater than the current value of largest. If the current number is greater, largest is updated to the new value. Finally, the function returns the value of largest, which is the largest number in the list."
      ],
      "metadata": {
        "id": "XYcJCH8YtAQ-"
      }
    },
    {
      "cell_type": "markdown",
      "source": [
        "**an example program that demonstrates how to use functions in Python to perform some basic math calculations:**"
      ],
      "metadata": {
        "id": "_cIB31hUsTAf"
      }
    },
    {
      "cell_type": "code",
      "source": [
        "# Define a function to add two numbers\n",
        "def add_numbers(num1, num2):\n",
        "    result = num1 + num2\n",
        "    return result\n",
        "\n",
        "# Define a function to subtract two numbers\n",
        "def subtract_numbers(num1, num2):\n",
        "    result = num1 - num2\n",
        "    return result\n",
        "\n",
        "# Define a function to multiply two numbers\n",
        "def multiply_numbers(num1, num2):\n",
        "    result = num1 * num2\n",
        "    return result\n",
        "\n",
        "# Define a function to divide two numbers\n",
        "def divide_numbers(num1, num2):\n",
        "    result = num1 / num2\n",
        "    return result\n",
        "\n",
        "# Get user input for two numbers\n",
        "num1 = float(input(\"Enter the first number: \"))\n",
        "num2 = float(input(\"Enter the second number: \"))\n",
        "\n",
        "# Perform calculations using the defined functions\n",
        "sum = add_numbers(num1, num2)\n",
        "difference = subtract_numbers(num1, num2)\n",
        "product = multiply_numbers(num1, num2)\n",
        "quotient = divide_numbers(num1, num2)\n",
        "\n",
        "# Print the results\n",
        "print(\"The sum of {} and {} is {}\".format(num1, num2, sum))\n",
        "print(\"The difference between {} and {} is {}\".format(num1, num2, difference))\n",
        "print(\"The product of {} and {} is {}\".format(num1, num2, product))\n",
        "print(\"The quotient of {} and {} is {}\".format(num1, num2, quotient))\n"
      ],
      "metadata": {
        "colab": {
          "base_uri": "https://localhost:8080/"
        },
        "id": "NDGvghEUsUKF",
        "outputId": "3cf4032a-1317-4b68-ca45-c58403f53dd3"
      },
      "execution_count": null,
      "outputs": [
        {
          "output_type": "stream",
          "name": "stdout",
          "text": [
            "Enter the first number: 10\n",
            "Enter the second number: 20\n",
            "The sum of 10.0 and 20.0 is 30.0\n",
            "The difference between 10.0 and 20.0 is -10.0\n",
            "The product of 10.0 and 20.0 is 200.0\n",
            "The quotient of 10.0 and 20.0 is 0.5\n"
          ]
        }
      ]
    },
    {
      "cell_type": "markdown",
      "source": [
        "** example program that demonstrates how to use functions in Python to perform some basic string manipulations:**"
      ],
      "metadata": {
        "id": "vi9ZNLaRs_uO"
      }
    },
    {
      "cell_type": "code",
      "source": [
        "# Define a function to capitalize the first letter of a string\n",
        "def capitalize_first_letter(string):\n",
        "    result = string.capitalize()\n",
        "    return result\n",
        "\n",
        "# Define a function to reverse a string\n",
        "def reverse_string(string):\n",
        "    result = string[::-1]\n",
        "    return result\n",
        "\n",
        "# Define a function to count the number of vowels in a string\n",
        "def count_vowels(string):\n",
        "    vowels = 'aeiouAEIOU'\n",
        "    count = 0\n",
        "    for char in string:\n",
        "        if char in vowels:\n",
        "            count += 1\n",
        "    return count\n",
        "\n",
        "# Get user input for a string\n",
        "string = input(\"Enter a string: \")\n",
        "\n",
        "# Perform string manipulations using the defined functions\n",
        "capitalized_string = capitalize_first_letter(string)\n",
        "reversed_string = reverse_string(string)\n",
        "vowel_count = count_vowels(string)\n",
        "\n",
        "# Print the results\n",
        "print(\"The original string is: {}\".format(string))\n",
        "print(\"The capitalized string is: {}\".format(capitalized_string))\n",
        "print(\"The reversed string is: {}\".format(reversed_string))\n",
        "print(\"The number of vowels in the string is: {}\".format(vowel_count))\n"
      ],
      "metadata": {
        "id": "_oDPOg9JtEwt"
      },
      "execution_count": null,
      "outputs": []
    },
    {
      "cell_type": "markdown",
      "source": [
        "This program defines three functions: capitalize_first_letter(), reverse_string(), and count_vowels(). Each of these functions takes a string as input and performs a different manipulation or analysis.\n",
        "\n",
        "The program then prompts the user to enter a string, and performs each of the three manipulations using the defined functions. Finally, the program prints the results using formatted strings."
      ],
      "metadata": {
        "id": "q-Wtz5YQtMOf"
      }
    },
    {
      "cell_type": "markdown",
      "source": [
        "Write a function named reverse_string that takes a string as input and returns the reversed string. Do not use the built-in reversed() function or slicing to reverse the string.\n",
        "\n",
        "Example Input/Output:\n",
        "\n",
        "Input: \"hello\"\n",
        "Output: \"olleh\"\n",
        "\n",
        "Input: \"world\"\n",
        "Output: \"dlrow\""
      ],
      "metadata": {
        "id": "qEwM74-jtNUO"
      }
    },
    {
      "cell_type": "code",
      "source": [
        "def reverse_string(string):\n",
        "    # Initialize an empty string to store the reversed string\n",
        "    reversed_string = \"\"\n",
        "    # Iterate over the string in reverse order and append each character to the reversed string\n",
        "    for i in range(len(string)-1, -1, -1):\n",
        "        reversed_string += string[i]\n",
        "    # Return the reversed string\n",
        "    return reversed_string\n"
      ],
      "metadata": {
        "id": "RPUTts3pvAov"
      },
      "execution_count": null,
      "outputs": []
    },
    {
      "cell_type": "code",
      "source": [
        "print(reverse_string(\"hello\")) # Output: \"olleh\"\n",
        "print(reverse_string(\"world\")) # Output: \"dlrow\"\n"
      ],
      "metadata": {
        "id": "ks3frOwcvFFZ"
      },
      "execution_count": null,
      "outputs": []
    },
    {
      "cell_type": "markdown",
      "source": [
        "The reverse_string function takes a string as input and initializes an empty string to store the reversed string. It then iterates over the characters in the input string in reverse order using a for loop with a step of -1, and appends each character to the reversed string. Finally, the function returns the reversed string."
      ],
      "metadata": {
        "id": "aBaEBURvvHqG"
      }
    },
    {
      "cell_type": "markdown",
      "source": [
        "A recursive function is a function that calls itself one or more times during its execution. Recursive functions are used to solve problems that can be broken down into smaller, simpler problems that are similar in structure to the original problem. Here is an example of a recursive function in Python:"
      ],
      "metadata": {
        "id": "mQFpCwqrt6SL"
      }
    },
    {
      "cell_type": "code",
      "source": [
        "def factorial(x):\n",
        "    \"\"\"This is a recursive function\n",
        "    to find the factorial of an integer\"\"\"\n",
        "\n",
        "    if x == 1:\n",
        "        return 1\n",
        "    else:\n",
        "        return (x * factorial(x-1))\n",
        "\n",
        "\n",
        "num = 3\n",
        "print(\"The factorial of\", num, \"is\", factorial(num))"
      ],
      "metadata": {
        "colab": {
          "base_uri": "https://localhost:8080/"
        },
        "id": "CAwUsvdxuZu7",
        "outputId": "2e749e37-5941-4d0d-c259-28baba466aba"
      },
      "execution_count": null,
      "outputs": [
        {
          "output_type": "stream",
          "name": "stdout",
          "text": [
            "The factorial of 3 is 6\n"
          ]
        }
      ]
    },
    {
      "cell_type": "markdown",
      "source": [
        "In the above example, factorial() is a recursive function as it calls itself.\n",
        "\n",
        "When we call this function with a positive integer, it will recursively call itself by decreasing the number.\n",
        "\n",
        "Each function multiplies the number with the factorial of the number below it until it is equal to one. This recursive call can be explained in the following steps."
      ],
      "metadata": {
        "id": "i6Wz3vXfuoWL"
      }
    },
    {
      "cell_type": "markdown",
      "source": [
        "**Advantages of Recursion**\n",
        "\n",
        "Recursive functions make the code look clean and elegant.\n",
        "A complex task can be broken down into simpler sub-problems using recursion.\n",
        "Sequence generation is easier with recursion than using some nested iteration."
      ],
      "metadata": {
        "id": "mrS6p2SNu9lK"
      }
    },
    {
      "cell_type": "markdown",
      "source": [
        "**Disadvantages of Recursion**\n",
        "\n",
        "Sometimes the logic behind recursion is hard to follow through.\n",
        "Recursive calls are expensive (inefficient) as they take up a lot of memory and time.\n",
        "Recursive functions are hard to debug."
      ],
      "metadata": {
        "id": "_EUp1paHu_x4"
      }
    },
    {
      "cell_type": "markdown",
      "source": [
        "**Fibonacci sequence using a loop and Function**"
      ],
      "metadata": {
        "id": "aAknbkwfvcao"
      }
    },
    {
      "cell_type": "code",
      "source": [
        "def fibonacci(n):\n",
        "    fib_seq = [0, 1]\n",
        "    for i in range(2, n+1):\n",
        "        fib_seq.append(fib_seq[i-1] + fib_seq[i-2])\n",
        "    return fib_seq\n",
        "fibonacci(10)\n",
        "\n"
      ],
      "metadata": {
        "colab": {
          "base_uri": "https://localhost:8080/"
        },
        "id": "TrIH2ENlvipQ",
        "outputId": "c7ff09ee-e00e-453f-b315-94f584cc3136"
      },
      "execution_count": null,
      "outputs": [
        {
          "output_type": "execute_result",
          "data": {
            "text/plain": [
              "[0, 1, 1, 2, 3, 5, 8, 13, 21, 34, 55]"
            ]
          },
          "metadata": {},
          "execution_count": 2
        }
      ]
    },
    {
      "cell_type": "markdown",
      "source": [
        "This example generates the first 10 numbers in the Fibonacci sequence.\n",
        "\n",
        "Note that there are other ways to implement the Fibonacci sequence in Python, such as using recursion or using a generator function. However, the iterative approach shown here is often the most efficient for larger values of n."
      ],
      "metadata": {
        "id": "iSEKuZ8cvulI"
      }
    },
    {
      "cell_type": "markdown",
      "source": [
        "*** an example of a Python function to calculate the power of a number:***"
      ],
      "metadata": {
        "id": "O8M_WYk9uM5B"
      }
    },
    {
      "cell_type": "code",
      "source": [
        "def power(base, exponent):\n",
        "    result = 1\n",
        "    for i in range(exponent):\n",
        "        result *= base\n",
        "    return result\n",
        "print(power(2, 3))  # Output: 8\n",
        "print(power(5, 2))  # Output: 25\n",
        "print(power(10, 0)) # Output: 1"
      ],
      "metadata": {
        "colab": {
          "base_uri": "https://localhost:8080/"
        },
        "id": "yyrsv100uSBZ",
        "outputId": "94938ded-76b7-4875-ff79-a488a55e9bb9"
      },
      "execution_count": null,
      "outputs": [
        {
          "output_type": "stream",
          "name": "stdout",
          "text": [
            "8\n",
            "25\n",
            "1\n"
          ]
        }
      ]
    },
    {
      "cell_type": "markdown",
      "source": [
        "In the example above, the power function takes two arguments, base and exponent. It then uses a for loop to multiply the base value by itself exponent number of times, and stores the result in the result variable. Finally, the function returns the result."
      ],
      "metadata": {
        "id": "L3cZ0bdsupIN"
      }
    },
    {
      "cell_type": "markdown",
      "source": [
        "***Write a Python function that takes a list of numbers as input, and returns the sum of all even numbers in the list.***"
      ],
      "metadata": {
        "id": "FqP8WRVmySyb"
      }
    },
    {
      "cell_type": "code",
      "source": [
        "def sum_of_even_numbers(numbers):\n",
        "    sum = 0\n",
        "    for number in numbers:\n",
        "        if number % 2 == 0:\n",
        "            sum += number\n",
        "    return sum\n",
        "numbers = [1, 2, 3, 4, 5, 6, 7, 8, 9]\n",
        "even_sum = sum_of_even_numbers(numbers)\n",
        "print(\"The sum of even numbers in {} is {}\".format(numbers, even_sum))"
      ],
      "metadata": {
        "colab": {
          "base_uri": "https://localhost:8080/"
        },
        "id": "icIFRMkUyU1R",
        "outputId": "7c4beb23-77e8-4868-f23a-29e538e92620"
      },
      "execution_count": null,
      "outputs": [
        {
          "output_type": "stream",
          "name": "stdout",
          "text": [
            "The sum of even numbers in [1, 2, 3, 4, 5, 6, 7, 8, 9] is 20\n"
          ]
        }
      ]
    },
    {
      "cell_type": "markdown",
      "source": [
        "In the example above, the sum_of_even_numbers function takes a list of numbers as input and initializes the sum variable to 0. It then iterates over each number in the list, and checks if it is even by using the modulo operator (%) to check if it's divisible by 2. If the number is even, its value is added to the sum variable. Finally, the sum variable is returned.\n",
        "\n",
        "In the example usage code, we define a list of numbers to test the function with ([1, 2, 3, 4, 5, 6, 7, 8, 9]), and then call the function with that list. The resulting sum of even numbers is printed out using a formatted string. In this case, the sum of even numbers in the list is 20 (2 + 4 + 6 + 8 = 20)."
      ],
      "metadata": {
        "id": "iK20BVS5ycxD"
      }
    }
  ]
}