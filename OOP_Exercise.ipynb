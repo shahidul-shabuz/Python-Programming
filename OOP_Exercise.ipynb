{
  "nbformat": 4,
  "nbformat_minor": 0,
  "metadata": {
    "colab": {
      "provenance": [],
      "authorship_tag": "ABX9TyP6T9oivZCmu6Ao+2oiGARi",
      "include_colab_link": true
    },
    "kernelspec": {
      "name": "python3",
      "display_name": "Python 3"
    },
    "language_info": {
      "name": "python"
    }
  },
  "cells": [
    {
      "cell_type": "markdown",
      "metadata": {
        "id": "view-in-github",
        "colab_type": "text"
      },
      "source": [
        "<a href=\"https://colab.research.google.com/github/shahidul-shabuz/Python-Programming/blob/main/OOP_Exercise.ipynb\" target=\"_parent\"><img src=\"https://colab.research.google.com/assets/colab-badge.svg\" alt=\"Open In Colab\"/></a>"
      ]
    },
    {
      "cell_type": "markdown",
      "source": [
        "***Constructor program exercise***"
      ],
      "metadata": {
        "id": "7yQXjs6U5pDH"
      }
    },
    {
      "cell_type": "code",
      "source": [
        "class student:\n",
        "        def __init__(self):\n",
        "          print(self) #Object call whenever it created\n",
        "          print('object is created')\n",
        "\n",
        "#variable = class_name()\n",
        "s1 = student()\n",
        "s2 = student()\n",
        "print(s1,s2)"
      ],
      "metadata": {
        "colab": {
          "base_uri": "https://localhost:8080/"
        },
        "id": "xPZFXoaX5x6Z",
        "outputId": "d639563b-dd8e-486c-e526-a533891c7db5"
      },
      "execution_count": null,
      "outputs": [
        {
          "output_type": "stream",
          "name": "stdout",
          "text": [
            "<__main__.student object at 0x7f281ec45780>\n",
            "object is created\n",
            "<__main__.student object at 0x7f281ec47640>\n",
            "object is created\n",
            "<__main__.student object at 0x7f281ec45780> <__main__.student object at 0x7f281ec47640>\n"
          ]
        }
      ]
    },
    {
      "cell_type": "markdown",
      "source": [
        "***Class Object Constructor attributes*** Exercise"
      ],
      "metadata": {
        "id": "CXBV8bXy9ZEt"
      }
    },
    {
      "cell_type": "code",
      "source": [
        "class student:\n",
        "  def __init__(self,name,id):\n",
        "    self.name = name  # instance variable\n",
        "    self.id = id      # instance variable\n",
        "\n",
        "\n",
        "s1 = student(\"shabuz\",10)\n",
        "s2 = student(\"juwel\",17)\n",
        "#s1.id = 33\n",
        "print(s1.name)\n",
        "print(s1.id)\n",
        "print(s2.name)\n",
        "print(s2.id)\n"
      ],
      "metadata": {
        "colab": {
          "base_uri": "https://localhost:8080/"
        },
        "id": "XlGeez_N9j3P",
        "outputId": "c9571aaa-a5d1-44a5-e5dd-a88a058d734f"
      },
      "execution_count": null,
      "outputs": [
        {
          "output_type": "stream",
          "name": "stdout",
          "text": [
            "shabuz\n",
            "33\n",
            "juwel\n",
            "17\n"
          ]
        }
      ]
    },
    {
      "cell_type": "markdown",
      "source": [
        "***Instance Method***"
      ],
      "metadata": {
        "id": "4vObVQcLDno9"
      }
    },
    {
      "cell_type": "code",
      "source": [
        "class student:\n",
        "  def __init__(self,name,id):\n",
        "    self.name = name  # instance variable\n",
        "    self.id = id      # instance variable\n",
        "  def display(self):         # instance method\n",
        "    print(\"name:\",self.name,\"ID:\",self.id)\n",
        "\n",
        "\n",
        "s1 = student(\"shabuz\",10)\n",
        "s2 = student(\"juwel\",17)\n",
        "#s1.id = 33\n",
        "s1.display()\n",
        "s2.display()\n",
        "#s1.display()\n"
      ],
      "metadata": {
        "colab": {
          "base_uri": "https://localhost:8080/"
        },
        "id": "me0b-Hs3FiQ6",
        "outputId": "2213445b-97f2-427d-b5c4-29b5679ec835"
      },
      "execution_count": null,
      "outputs": [
        {
          "output_type": "stream",
          "name": "stdout",
          "text": [
            "name: shabuz ID: 10\n",
            "name: juwel ID: 17\n",
            "name: shabuz ID: 10\n"
          ]
        }
      ]
    },
    {
      "cell_type": "markdown",
      "source": [
        "***Example of instance variable and method 2 ***"
      ],
      "metadata": {
        "id": "L9Pa6kI2KInZ"
      }
    },
    {
      "cell_type": "code",
      "source": [
        "class house:\n",
        "  def __init__(self):\n",
        "    self.window = 4      #instance varibale\n",
        "    self.door = 6         #instance varibale\n",
        "  def view(self):\n",
        "    print(self.window,\"window\",self.door,\"door\")\n",
        "\n",
        "h1 = house()\n",
        "h2 = house()\n",
        "\n",
        "#print(h1)\n",
        "#print(h2)\n",
        "#h1.door = 4\n",
        "#h2.window = 7\n",
        "h1.view()\n",
        "h2.view()"
      ],
      "metadata": {
        "colab": {
          "base_uri": "https://localhost:8080/"
        },
        "id": "836UMXDBKUtA",
        "outputId": "8fb05141-df77-49b6-9403-239a3d347382"
      },
      "execution_count": null,
      "outputs": [
        {
          "output_type": "stream",
          "name": "stdout",
          "text": [
            "<__main__.house object at 0x7f283f1a09a0>\n",
            "<__main__.house object at 0x7f283f1a16c0>\n",
            "4 window 6 door\n",
            "4 window 6 door\n"
          ]
        }
      ]
    },
    {
      "cell_type": "markdown",
      "source": [
        "***Set_Value and Get_value***"
      ],
      "metadata": {
        "id": "mhIsTdpZtp0P"
      }
    },
    {
      "cell_type": "code",
      "source": [
        "class Book:\n",
        "      def __init__(self,name,author):\n",
        "        self.name = name\n",
        "        self.author = author\n",
        "        self.price = 0\n",
        "      def set_price(self,price):\n",
        "        self.price = price\n",
        "      def get_price(self):\n",
        "        return self.price\n",
        "      def details(self):\n",
        "        print(\"Book Name:\",self.name,\n",
        "            \"\\nAuthor Name:\",self.author,\"\\nPrice:\",self.price,\"Taka\")\n",
        "\n",
        "\n",
        "b1 = Book(\"The 5 seconds rules\",\"Mel Robbin\")\n",
        "b1.details()\n",
        "b1.set_price(550)\n",
        "b1.get_price()"
      ],
      "metadata": {
        "colab": {
          "base_uri": "https://localhost:8080/"
        },
        "id": "N_VjqhUtwzP3",
        "outputId": "13020667-8eda-4e65-9e61-ac4b4270985c"
      },
      "execution_count": null,
      "outputs": [
        {
          "output_type": "stream",
          "name": "stdout",
          "text": [
            "Book Name: The 5 seconds rules \n",
            "Author Name: Mel Robbin \n",
            "Price: 0 Taka\n"
          ]
        },
        {
          "output_type": "execute_result",
          "data": {
            "text/plain": [
              "550"
            ]
          },
          "metadata": {},
          "execution_count": 5
        }
      ]
    },
    {
      "cell_type": "markdown",
      "source": [
        "***Call/Pass by Reference ***"
      ],
      "metadata": {
        "id": "BRNZTUEy3FSE"
      }
    },
    {
      "cell_type": "code",
      "source": [
        "class dog:\n",
        "  def __init__(self,color,action):\n",
        "    self.color = color\n",
        "    self.action = action\n",
        "  def display(self):\n",
        "    print(self.color,\"is a dog\",self.action)\n",
        "  def compare(self,com):\n",
        "    if self.action == com.action:\n",
        "      print(\"Both dog are\",com.action)\n",
        "    else:\n",
        "      print(\"They are different\")\n",
        "\n",
        "\n",
        "d1 = dog(\"White\",\"Barking\")\n",
        "d2 = dog(\"Black\",\"Jumping\")\n",
        "#d1.display()\n",
        "#d2.display()\n",
        "d1.compare(d2) #pass by reference"
      ],
      "metadata": {
        "colab": {
          "base_uri": "https://localhost:8080/"
        },
        "id": "KgD_DUAA3MhE",
        "outputId": "d21af97d-6f1a-4c46-81de-6fa5276dff1f"
      },
      "execution_count": null,
      "outputs": [
        {
          "output_type": "stream",
          "name": "stdout",
          "text": [
            "White is a dog Barking\n",
            "Black is a dog Jumping\n",
            "They are different\n"
          ]
        }
      ]
    },
    {
      "cell_type": "markdown",
      "source": [
        "**Call by Value and Reference**"
      ],
      "metadata": {
        "id": "1E1IyjnRDDf1"
      }
    },
    {
      "cell_type": "code",
      "source": [
        "class dog:\n",
        "  def __init__(self,color,action):\n",
        "    self.color = color\n",
        "    self.action = action\n",
        "  def display(self,num,colr):\n",
        "    num = num + 5\n",
        "    clr1 = colr\n",
        "    clr1[0] = \"GREEN\"\n",
        "    print(\"Method inside\",num)\n",
        "    print(\"Method inside\",clr1)\n",
        "\n",
        "colors = [\"White\",\"Red\",\"Yellow\",\"Blue\"]\n",
        "d1 = dog(\"Black\",\"Barking\")\n",
        "x = 55\n",
        "d1.display(x,colors)\n",
        "print(\"Method inside\",x)\n",
        "print(\"Method inside\",colors)\n",
        "\n",
        ""
      ],
      "metadata": {
        "colab": {
          "base_uri": "https://localhost:8080/"
        },
        "id": "4yeNXXs6DLUe",
        "outputId": "57f79464-1091-4a1f-9122-3e1f7deec53e"
      },
      "execution_count": null,
      "outputs": [
        {
          "output_type": "stream",
          "name": "stdout",
          "text": [
            "Method inside 60\n",
            "Method inside ['GREEN', 'Red', 'Yellow', 'Blue']\n",
            "Method inside 55\n",
            "Method inside ['GREEN', 'Red', 'Yellow', 'Blue']\n"
          ]
        }
      ]
    },
    {
      "cell_type": "markdown",
      "source": [
        "***Method Overloading ***"
      ],
      "metadata": {
        "id": "cU684V6JCw3J"
      }
    },
    {
      "cell_type": "code",
      "source": [
        "class my_calculator:\n",
        "  def product(self,num1,num2):\n",
        "    print(num1*num2)\n",
        "  def product(self,num1,num2,num3): #Method overloading\n",
        "    print(num1*num2)\n",
        "\n",
        "cal = my_calculator()\n",
        "cal.product(4,5)\n",
        "cal.product(4,5,7)"
      ],
      "metadata": {
        "colab": {
          "base_uri": "https://localhost:8080/",
          "height": 226
        },
        "id": "r-gnCwuzC2Rv",
        "outputId": "91165248-4df1-4d80-f45b-c0807fcd28de"
      },
      "execution_count": null,
      "outputs": [
        {
          "output_type": "error",
          "ename": "TypeError",
          "evalue": "ignored",
          "traceback": [
            "\u001b[0;31m---------------------------------------------------------------------------\u001b[0m",
            "\u001b[0;31mTypeError\u001b[0m                                 Traceback (most recent call last)",
            "\u001b[0;32m<ipython-input-2-a36cd18926c8>\u001b[0m in \u001b[0;36m<cell line: 8>\u001b[0;34m()\u001b[0m\n\u001b[1;32m      6\u001b[0m \u001b[0;34m\u001b[0m\u001b[0m\n\u001b[1;32m      7\u001b[0m \u001b[0mcal\u001b[0m \u001b[0;34m=\u001b[0m \u001b[0mmy_calculator\u001b[0m\u001b[0;34m(\u001b[0m\u001b[0;34m)\u001b[0m\u001b[0;34m\u001b[0m\u001b[0;34m\u001b[0m\u001b[0m\n\u001b[0;32m----> 8\u001b[0;31m \u001b[0mcal\u001b[0m\u001b[0;34m.\u001b[0m\u001b[0mproduct\u001b[0m\u001b[0;34m(\u001b[0m\u001b[0;36m4\u001b[0m\u001b[0;34m,\u001b[0m\u001b[0;36m5\u001b[0m\u001b[0;34m)\u001b[0m\u001b[0;34m\u001b[0m\u001b[0;34m\u001b[0m\u001b[0m\n\u001b[0m\u001b[1;32m      9\u001b[0m \u001b[0mcal\u001b[0m\u001b[0;34m.\u001b[0m\u001b[0mproduct\u001b[0m\u001b[0;34m(\u001b[0m\u001b[0;36m4\u001b[0m\u001b[0;34m,\u001b[0m\u001b[0;36m5\u001b[0m\u001b[0;34m,\u001b[0m\u001b[0;36m7\u001b[0m\u001b[0;34m)\u001b[0m\u001b[0;34m\u001b[0m\u001b[0;34m\u001b[0m\u001b[0m\n",
            "\u001b[0;31mTypeError\u001b[0m: my_calculator.product() missing 1 required positional argument: 'num3'"
          ]
        }
      ]
    },
    {
      "cell_type": "markdown",
      "source": [
        "**Method Overloading manually solution**"
      ],
      "metadata": {
        "id": "KG1RJ-VAEfWA"
      }
    },
    {
      "cell_type": "code",
      "source": [
        "class my_calculator:\n",
        "  def product(self,num1,num2 = None,num3 = None):\n",
        "    if num1 != None and num2 != None and num3 !=None:\n",
        "      print(num1*num2*num3)\n",
        "    elif num1 != None and num2 != None:\n",
        "      print(num1*num2)\n",
        "    else:\n",
        "      print(1*num1)\n",
        "\n",
        "\n",
        "\n",
        "cal = my_calculator()\n",
        "cal.product(4,5)\n",
        "cal.product(4,5,7)"
      ],
      "metadata": {
        "colab": {
          "base_uri": "https://localhost:8080/"
        },
        "id": "a7f2fQnSEnIJ",
        "outputId": "e6b6b12a-3a62-424a-faa6-de0b4196238e"
      },
      "execution_count": null,
      "outputs": [
        {
          "output_type": "stream",
          "name": "stdout",
          "text": [
            "20\n",
            "140\n"
          ]
        }
      ]
    },
    {
      "cell_type": "markdown",
      "source": [
        "**Method Overloading Solutions**"
      ],
      "metadata": {
        "id": "QNIwlRTeIZNe"
      }
    },
    {
      "cell_type": "code",
      "source": [
        "class my_calculator:\n",
        "  def product(self,*nums):\n",
        "    sum = 1\n",
        "    for x in nums:\n",
        "      sum = sum *x\n",
        "    print(sum)\n",
        "\n",
        "\n",
        "\n",
        "\n",
        "cal = my_calculator()\n",
        "cal.product(4,5)\n",
        "cal.product(4,5,7)"
      ],
      "metadata": {
        "colab": {
          "base_uri": "https://localhost:8080/"
        },
        "id": "PeGEzo0LIeXJ",
        "outputId": "d83f75f6-fe42-4d2c-9bc6-c457ea98220d"
      },
      "execution_count": null,
      "outputs": [
        {
          "output_type": "stream",
          "name": "stdout",
          "text": [
            "20\n",
            "140\n"
          ]
        }
      ]
    },
    {
      "cell_type": "markdown",
      "source": [
        "**Method Overloading Solution using import libaries**"
      ],
      "metadata": {
        "id": "CDzvhw2gJSdm"
      }
    },
    {
      "cell_type": "code",
      "source": [
        "from multipledispatch import dispatch\n",
        "class my_calculator:\n",
        "  @dispatch(int,int)\n",
        "  def product(self,a,b):\n",
        "    print(a*b)\n",
        "  @dispatch(int,int,int)\n",
        "  def product(self,a,b,c):\n",
        "    print(a*b*c)\n",
        "  @dispatch(str,str)\n",
        "  def product(self,a,b):\n",
        "    print(int(a)*int(b))\n",
        "\n",
        "cal = my_calculator()\n",
        "cal.product(4,5)\n",
        "cal.product(4,5,7)\n",
        "cal.product(10,12)"
      ],
      "metadata": {
        "colab": {
          "base_uri": "https://localhost:8080/"
        },
        "id": "l_0CRJ13Jbmt",
        "outputId": "fcabeab9-acbb-4cf9-cbbc-1e90e197cfc5"
      },
      "execution_count": null,
      "outputs": [
        {
          "output_type": "stream",
          "name": "stdout",
          "text": [
            "20\n",
            "140\n",
            "120\n"
          ]
        }
      ]
    },
    {
      "cell_type": "markdown",
      "source": [
        "***Constructor Overloading ***"
      ],
      "metadata": {
        "id": "AibsxK7LOIyF"
      }
    },
    {
      "cell_type": "code",
      "source": [
        "class student:\n",
        "  def __init__(self,name,id):\n",
        "    self.name = name\n",
        "    self.id = id\n",
        "  def __init__(self,name,id,cg):\n",
        "    self.name = name\n",
        "    self.id = id\n",
        "    self.CGPA = cg\n",
        "\n",
        "\n",
        "s1 = student(\"marzan\",12)\n",
        "s2 = student(\"torikul\",13)\n"
      ],
      "metadata": {
        "colab": {
          "base_uri": "https://localhost:8080/",
          "height": 226
        },
        "id": "S2dxCNRUOT0K",
        "outputId": "3eaa1952-fb53-4ca5-f40a-0baa4b989bca"
      },
      "execution_count": null,
      "outputs": [
        {
          "output_type": "error",
          "ename": "TypeError",
          "evalue": "ignored",
          "traceback": [
            "\u001b[0;31m---------------------------------------------------------------------------\u001b[0m",
            "\u001b[0;31mTypeError\u001b[0m                                 Traceback (most recent call last)",
            "\u001b[0;32m<ipython-input-3-1c6ce43501ce>\u001b[0m in \u001b[0;36m<cell line: 11>\u001b[0;34m()\u001b[0m\n\u001b[1;32m      9\u001b[0m \u001b[0;34m\u001b[0m\u001b[0m\n\u001b[1;32m     10\u001b[0m \u001b[0;34m\u001b[0m\u001b[0m\n\u001b[0;32m---> 11\u001b[0;31m \u001b[0ms1\u001b[0m \u001b[0;34m=\u001b[0m \u001b[0mstudent\u001b[0m\u001b[0;34m(\u001b[0m\u001b[0;34m\"marzan\"\u001b[0m\u001b[0;34m,\u001b[0m\u001b[0;36m12\u001b[0m\u001b[0;34m)\u001b[0m\u001b[0;34m\u001b[0m\u001b[0;34m\u001b[0m\u001b[0m\n\u001b[0m\u001b[1;32m     12\u001b[0m \u001b[0ms2\u001b[0m \u001b[0;34m=\u001b[0m \u001b[0mstudent\u001b[0m\u001b[0;34m(\u001b[0m\u001b[0;34m\"torikul\"\u001b[0m\u001b[0;34m,\u001b[0m\u001b[0;36m13\u001b[0m\u001b[0;34m)\u001b[0m\u001b[0;34m\u001b[0m\u001b[0;34m\u001b[0m\u001b[0m\n",
            "\u001b[0;31mTypeError\u001b[0m: student.__init__() missing 1 required positional argument: 'cg'"
          ]
        }
      ]
    },
    {
      "cell_type": "markdown",
      "source": [
        "***Achieving Constructor Overloading ***"
      ],
      "metadata": {
        "id": "E-xJrxoWPOJt"
      }
    },
    {
      "cell_type": "code",
      "source": [
        "class student:\n",
        "  def __init__(self,*info):\n",
        "    if len(info) == 3:\n",
        "      self.name = info[0]\n",
        "      self.id = info[1]\n",
        "      self.CGPA = info[2]\n",
        "    elif len(info) == 2:\n",
        "       self.name = info[0]\n",
        "       self.id = info[1]\n",
        "    print(\"A student object is created\")\n",
        "\n",
        "\n",
        "s1 = student(\"marzan\",12)\n",
        "s2 = student(\"torikul\",13)\n"
      ],
      "metadata": {
        "colab": {
          "base_uri": "https://localhost:8080/"
        },
        "id": "k7Hw3Dx_Pbqq",
        "outputId": "66ace6d0-4515-4fa3-9ece-93165b145cd4"
      },
      "execution_count": null,
      "outputs": [
        {
          "output_type": "stream",
          "name": "stdout",
          "text": [
            "A student object is created\n",
            "A student object is created\n"
          ]
        }
      ]
    },
    {
      "cell_type": "markdown",
      "source": [
        "***Operator Overloading ***"
      ],
      "metadata": {
        "id": "TzjOZb-kuJdr"
      }
    },
    {
      "cell_type": "code",
      "source": [
        "class sum:\n",
        "  def __init__(self,x,y):\n",
        "    self.num = x+y\n",
        "\n",
        "num1 = sum(10,12)\n",
        "num2 = sum(13,14)\n",
        "p = num1 + num2\n",
        "print(p)"
      ],
      "metadata": {
        "colab": {
          "base_uri": "https://localhost:8080/",
          "height": 207
        },
        "id": "s_iw5wzAu6Qh",
        "outputId": "7e2272cc-66d1-402c-b1fb-c24ca65d0959"
      },
      "execution_count": null,
      "outputs": [
        {
          "output_type": "error",
          "ename": "TypeError",
          "evalue": "ignored",
          "traceback": [
            "\u001b[0;31m---------------------------------------------------------------------------\u001b[0m",
            "\u001b[0;31mTypeError\u001b[0m                                 Traceback (most recent call last)",
            "\u001b[0;32m<ipython-input-1-a6153091fd90>\u001b[0m in \u001b[0;36m<cell line: 7>\u001b[0;34m()\u001b[0m\n\u001b[1;32m      5\u001b[0m \u001b[0mnum1\u001b[0m \u001b[0;34m=\u001b[0m \u001b[0msum\u001b[0m\u001b[0;34m(\u001b[0m\u001b[0;36m10\u001b[0m\u001b[0;34m,\u001b[0m\u001b[0;36m12\u001b[0m\u001b[0;34m)\u001b[0m\u001b[0;34m\u001b[0m\u001b[0;34m\u001b[0m\u001b[0m\n\u001b[1;32m      6\u001b[0m \u001b[0mnum2\u001b[0m \u001b[0;34m=\u001b[0m \u001b[0msum\u001b[0m\u001b[0;34m(\u001b[0m\u001b[0;36m13\u001b[0m\u001b[0;34m,\u001b[0m\u001b[0;36m14\u001b[0m\u001b[0;34m)\u001b[0m\u001b[0;34m\u001b[0m\u001b[0;34m\u001b[0m\u001b[0m\n\u001b[0;32m----> 7\u001b[0;31m \u001b[0mprint\u001b[0m\u001b[0;34m(\u001b[0m\u001b[0mnum1\u001b[0m\u001b[0;34m+\u001b[0m\u001b[0mnum2\u001b[0m\u001b[0;34m)\u001b[0m\u001b[0;34m\u001b[0m\u001b[0;34m\u001b[0m\u001b[0m\n\u001b[0m",
            "\u001b[0;31mTypeError\u001b[0m: unsupported operand type(s) for +: 'sum' and 'sum'"
          ]
        }
      ]
    }
  ]
}