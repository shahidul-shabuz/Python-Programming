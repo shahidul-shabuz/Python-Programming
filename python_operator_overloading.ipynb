{
  "cells": [
    {
      "cell_type": "markdown",
      "metadata": {
        "id": "view-in-github",
        "colab_type": "text"
      },
      "source": [
        "<a href=\"https://colab.research.google.com/github/shahidul-shabuz/Python-Programming/blob/main/python_operator_overloading.ipynb\" target=\"_parent\"><img src=\"https://colab.research.google.com/assets/colab-badge.svg\" alt=\"Open In Colab\"/></a>"
      ]
    },
    {
      "cell_type": "markdown",
      "source": [
        "Operator overloading is a feature of some programming languages that allows programmers to redefine the meaning of operators for user-defined data types. This can be useful for making code more concise and readable, and for providing additional functionality to user-defined data types.\n",
        "\n",
        "In Python, operator overloading is implemented using special methods. These methods are called when an operator is used with an object of the corresponding type. For example, the `__add__` method is called when the `+` operator is used with two objects of the same type.\n",
        "\n",
        "The following table lists the special methods that are used for operator overloading in Python:\n",
        "\n",
        "Operator | Special method\n",
        "---|---\n",
        "+ | `__add__`\n",
        "- | `__sub__`\n",
        "* | `__mul__`\n",
        "/ | `__div__`\n",
        "% | `__mod__`\n",
        "** | `__pow__`\n",
        "< | `__lt__`\n",
        "> | `__gt__`\n",
        "<= | `__le__`\n",
        ">= | `__ge__`\n",
        "== | `==`\n",
        "!= | `!=`\n",
        "\n",
        "To overload an operator, you must define the corresponding special method in your class. The method must take two arguments, self and other. The self argument is the object on which the operator is being used, and the other argument is the object that is being operated on.\n",
        "\n",
        "The following example shows how to overload the `+` operator for a class called `Point`:"
      ],
      "metadata": {
        "id": "19ekAjrBoS8a"
      }
    },
    {
      "cell_type": "code",
      "source": [
        "class Point:\n",
        "    def __init__(self, x, y):\n",
        "        self.x = x\n",
        "        self.y = y\n",
        "\n",
        "    def __sub__(self, other):\n",
        "        return Point(self.x - other.x, self.y - other.y)"
      ],
      "outputs": [],
      "execution_count": null,
      "metadata": {
        "id": "l39mUxsuoS8i"
      }
    },
    {
      "cell_type": "markdown",
      "source": [
        "This code defines a new meaning for the `+` operator when it is used with two `Point` objects. The new meaning is to add the x and y coordinates of the two points together.\n",
        "\n",
        "You can use the overloaded operator in your code like this:"
      ],
      "metadata": {
        "id": "PkTT96AFoS8k"
      }
    },
    {
      "cell_type": "code",
      "source": [
        "p1 = Point(1, 2)\n",
        "p2 = Point(3, 4)\n",
        "\n",
        "p3 = p1 - p2 #\n",
        "\n",
        "print(p3.x, p3.y)\n"
      ],
      "outputs": [
        {
          "output_type": "stream",
          "name": "stdout",
          "text": [
            "-2 -2\n"
          ]
        }
      ],
      "execution_count": null,
      "metadata": {
        "colab": {
          "base_uri": "https://localhost:8080/"
        },
        "id": "nQkcyT4doS8k",
        "outputId": "b63fad30-df4f-4030-81ae-87b5a3e697f7"
      }
    },
    {
      "cell_type": "markdown",
      "source": [
        "This code will print 4 6. This is because the `+` operator has been overloaded to add the x and y coordinates of the two points together.\n",
        "\n",
        "Operator overloading can be a powerful tool for making your code more concise and readable. It can also be used to provide additional functionality to your user-defined data types. However, it is important to use operator overloading carefully. If you overload operators in a way that is not intuitive, it can make your code difficult to understand and maintain."
      ],
      "metadata": {
        "id": "bk4di4uEoS8l"
      }
    }
  ],
  "metadata": {
    "colab": {
      "provenance": [],
      "include_colab_link": true
    },
    "kernelspec": {
      "display_name": "Python 3",
      "name": "python3"
    }
  },
  "nbformat": 4,
  "nbformat_minor": 0
}