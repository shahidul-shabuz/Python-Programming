{
  "nbformat": 4,
  "nbformat_minor": 0,
  "metadata": {
    "colab": {
      "provenance": [],
      "authorship_tag": "ABX9TyNGlvkwbUvkI42Lxkgvqzwq",
      "include_colab_link": true
    },
    "kernelspec": {
      "name": "python3",
      "display_name": "Python 3"
    },
    "language_info": {
      "name": "python"
    }
  },
  "cells": [
    {
      "cell_type": "markdown",
      "metadata": {
        "id": "view-in-github",
        "colab_type": "text"
      },
      "source": [
        "<a href=\"https://colab.research.google.com/github/shahidul-shabuz/Python-Programming/blob/main/python%20class/OOP_in_Python.ipynb\" target=\"_parent\"><img src=\"https://colab.research.google.com/assets/colab-badge.svg\" alt=\"Open In Colab\"/></a>"
      ]
    },
    {
      "cell_type": "markdown",
      "source": [
        "# Python Classes:\n",
        "A class is considered as a blueprint of objects. We can think of the class as a sketch (prototype) of a house. It contains all the details about the floors, doors, windows, etc. Based on these descriptions we build the house. House is the object.\n",
        "\n",
        "Since many houses can be made from the same description, we can create many objects from a class.\n",
        "\n",
        "We use the class keyword to create a class in Python. For example,\n"
      ],
      "metadata": {
        "id": "xqP9jVwVWGVH"
      }
    },
    {
      "cell_type": "code",
      "source": [
        "class ClassName:\n",
        "  # class definition"
      ],
      "metadata": {
        "id": "nvLQg1rCXiVq"
      },
      "execution_count": null,
      "outputs": []
    },
    {
      "cell_type": "code",
      "source": [
        "class Bike:\n",
        "    name = \"\"\n",
        "    gear = 0"
      ],
      "metadata": {
        "id": "wx37cFbzY2y4"
      },
      "execution_count": null,
      "outputs": []
    },
    {
      "cell_type": "markdown",
      "source": [
        "Bike - the name of the class\n",
        "name/gear - variables inside the class with default values \"\" and 0 respectively.\n",
        "Note: The variables inside a class are called attributes."
      ],
      "metadata": {
        "id": "KF0DwK4qY53a"
      }
    },
    {
      "cell_type": "markdown",
      "source": [
        "# **Python Objects**\n",
        "An object is called an instance of a class. For example, suppose Bike is a class then we can create objects like bike1, bike2, etc from the class.\n",
        "\n",
        "Here's the syntax to create an object."
      ],
      "metadata": {
        "id": "aX4i1mX9ZUQi"
      }
    },
    {
      "cell_type": "code",
      "source": [
        "objectName = ClassName()"
      ],
      "metadata": {
        "id": "TzeZZZ96ZsjQ"
      },
      "execution_count": null,
      "outputs": []
    },
    {
      "cell_type": "code",
      "source": [
        "# create class\n",
        "class Bike:\n",
        "    name = \"\"\n",
        "    gear = 0\n",
        "\n",
        "# create objects of class\n",
        "bike1 = Bike()"
      ],
      "metadata": {
        "id": "9HrxgjLwZ2cy"
      },
      "execution_count": null,
      "outputs": []
    },
    {
      "cell_type": "markdown",
      "source": [
        "Here, bike1 is the object of the class. Now, we can use this object to access the class attributes."
      ],
      "metadata": {
        "id": "yTY4OQCcZ5HI"
      }
    },
    {
      "cell_type": "markdown",
      "source": [
        "# **Access Class Attributes Using Objects**\n",
        "We use the . notation to access the attributes of a class. For example,"
      ],
      "metadata": {
        "id": "ZEWmefCHaPKB"
      }
    },
    {
      "cell_type": "code",
      "source": [
        "# modify the name attribute\n",
        "bike1.name = \"Mountain Bike\"\n",
        "\n",
        "# access the gear attribute\n",
        "bike1.gear"
      ],
      "metadata": {
        "colab": {
          "base_uri": "https://localhost:8080/"
        },
        "id": "jCz4-IhpaWLQ",
        "outputId": "b63f2289-309d-4366-fc8b-d54c07622e6c"
      },
      "execution_count": null,
      "outputs": [
        {
          "output_type": "execute_result",
          "data": {
            "text/plain": [
              "0"
            ]
          },
          "metadata": {},
          "execution_count": 5
        }
      ]
    },
    {
      "cell_type": "markdown",
      "source": [
        "Here, we have used bike1.name and bike1.gear to change and access the value of name and gear attribute respectively."
      ],
      "metadata": {
        "id": "xJRF2k6cl8sF"
      }
    },
    {
      "cell_type": "markdown",
      "source": [
        "# **Example 1: Python Class and Objects**"
      ],
      "metadata": {
        "id": "tSZzDmVtl9u0"
      }
    },
    {
      "cell_type": "code",
      "source": [
        "# define a class\n",
        "class Bike:\n",
        "    name = \"\"\n",
        "    gear = 0\n",
        "\n",
        "# create object of class\n",
        "bike1 = Bike()\n",
        "\n",
        "# access attributes and assign new values\n",
        "bike1.gear = 11\n",
        "bike1.name = \"Mountain Bike\"\n",
        "\n",
        "print(f\"Name: {bike1.name}, Gears: {bike1.gear} \")"
      ],
      "metadata": {
        "colab": {
          "base_uri": "https://localhost:8080/"
        },
        "id": "3XNxWHRxmKP3",
        "outputId": "ed370450-c6a7-4016-9e5b-cc66d72d3417"
      },
      "execution_count": null,
      "outputs": [
        {
          "output_type": "stream",
          "name": "stdout",
          "text": [
            "Name: Mountain Bike, Gears: 11 \n"
          ]
        }
      ]
    },
    {
      "cell_type": "markdown",
      "source": [
        "In the above example, we have defined the class named Bike with two attributes: name and gear.\n",
        "\n",
        "We have also created an object bike1 of the class Bike.\n",
        "\n",
        "Finally, we have accessed and modified the attributes of an object using the . notation."
      ],
      "metadata": {
        "id": "HWcoODKrmaur"
      }
    },
    {
      "cell_type": "code",
      "source": [
        "class Parrot:\n",
        "\n",
        "    # class attribute\n",
        "    name = \"\"\n",
        "    age = 0\n",
        "\n",
        "# create parrot1 object\n",
        "parrot1 = Parrot()\n",
        "parrot1.name = \"Blu\"\n",
        "parrot1.age = 10\n",
        "\n",
        "# create another object parrot2\n",
        "parrot2 = Parrot()\n",
        "parrot2.name = \"Woo\"\n",
        "parrot2.age = 15\n",
        "\n",
        "# access attributes\n",
        "print(f\"{parrot1.name} is {parrot1.age} years old\")\n",
        "print(f\"{parrot2.name} is {parrot2.age} years old\")"
      ],
      "metadata": {
        "colab": {
          "base_uri": "https://localhost:8080/"
        },
        "id": "wzuVBXwvv4z3",
        "outputId": "1e1bf51f-cf17-4bc4-8b09-827df264265f"
      },
      "execution_count": null,
      "outputs": [
        {
          "output_type": "stream",
          "name": "stdout",
          "text": [
            "Blu is 10 years old\n",
            "Woo is 15 years old\n"
          ]
        }
      ]
    },
    {
      "cell_type": "markdown",
      "source": [
        "# **Create Multiple Objects of Python Class**"
      ],
      "metadata": {
        "id": "HcKVpeuGmj9s"
      }
    },
    {
      "cell_type": "code",
      "source": [
        "# define a class\n",
        "class Employee:\n",
        "    # define an attribute\n",
        "    employee_id = 0\n",
        "\n",
        "# create two objects of the Employee class\n",
        "employee1 = Employee()\n",
        "employee2 = Employee()\n",
        "\n",
        "# access attributes using employee1\n",
        "employee1.employeeID = 1001\n",
        "print(f\"Employee ID: {employee1.employeeID}\")\n",
        "\n",
        "# access attributes using employee2\n",
        "employee2.employeeID = 1002\n",
        "print(f\"Employee ID: {employee2.employeeID}\")"
      ],
      "metadata": {
        "colab": {
          "base_uri": "https://localhost:8080/"
        },
        "id": "PnZITMjxmqLt",
        "outputId": "7fce66a4-ad0d-4ff8-f2bc-745928a0347a"
      },
      "execution_count": null,
      "outputs": [
        {
          "output_type": "stream",
          "name": "stdout",
          "text": [
            "Employee ID: 1001\n",
            "Employee ID: 1002\n"
          ]
        }
      ]
    },
    {
      "cell_type": "markdown",
      "source": [
        "In the above example, we have created two objects employee1 and employee2 of the Employee class."
      ],
      "metadata": {
        "id": "UfB04GUFmtlM"
      }
    },
    {
      "cell_type": "markdown",
      "source": [
        "**Python Constructors**"
      ],
      "metadata": {
        "id": "EYKsr-CUtp-g"
      }
    },
    {
      "cell_type": "markdown",
      "source": [
        "A constructor is a special method that's called when you create an object from a class. In Python, the constructor is called\n",
        "__init__.\n"
      ],
      "metadata": {
        "id": "tCCQXjWYHUeb"
      }
    },
    {
      "cell_type": "code",
      "source": [
        "class Bike:\n",
        "\n",
        "    # constructor function\n",
        "    def __init__(self, name = \"\"):\n",
        "        self.name = name\n",
        "\n",
        "#bike1 = Bike()\n",
        "bike1 = Bike(\"Mountain Bike\")\n",
        "print(bike1.name)\n",
        "\n"
      ],
      "metadata": {
        "colab": {
          "base_uri": "https://localhost:8080/"
        },
        "id": "r2N81ywWHcxw",
        "outputId": "df49a9c5-3371-4555-9014-a270b89b763c"
      },
      "execution_count": null,
      "outputs": [
        {
          "output_type": "stream",
          "name": "stdout",
          "text": [
            "Mountain Bike\n"
          ]
        }
      ]
    },
    {
      "cell_type": "markdown",
      "source": [
        "Here, __init__() is the constructor function that is called whenever a new object of that class is instantiated.\n",
        "\n",
        "The constructor above initializes the value of the name attribute. We have used the self.name to refer to the name attribute of the bike1 object.\n",
        "\n",
        "If we use a constructor to initialize values inside a class, we need to pass the corresponding value during the object creation of the class.\n",
        "Here, \"Mountain Bike\" is passed to the name parameter of __init__()"
      ],
      "metadata": {
        "id": "zGISp-vdH7Yw"
      }
    },
    {
      "cell_type": "markdown",
      "source": [
        "**Program using Constructor**"
      ],
      "metadata": {
        "id": "MEb2HRAHKGg7"
      }
    },
    {
      "cell_type": "code",
      "source": [
        "class Person:\n",
        "    def __init__(self, name, age):\n",
        "        self.name = name\n",
        "        self.age = age\n",
        "\n",
        "    def describe(self):\n",
        "        print(f\"My name is {self.name} and I am {self.age} years old.\")\n",
        "\n",
        "person1 = Person(\"Alice\", 25)\n",
        "person2 = Person(\"Bob\", 30)\n",
        "\n",
        "person1.describe()\n",
        "person2.describe()\n"
      ],
      "metadata": {
        "colab": {
          "base_uri": "https://localhost:8080/"
        },
        "id": "rmJLXB15e21n",
        "outputId": "f6751575-59f2-4091-a867-c08a83c08d9a"
      },
      "execution_count": null,
      "outputs": [
        {
          "output_type": "stream",
          "name": "stdout",
          "text": [
            "My name is Alice and I am 25 years old.\n",
            "My name is Bob and I am 30 years old.\n"
          ]
        }
      ]
    },
    {
      "cell_type": "markdown",
      "source": [
        "**Python method overloading**\n",
        "\n",
        "Python does not support method overloading in the traditional sense as found in languages like Java and C++. This is because Python is a dynamically-typed language, meaning that types of variables can change at runtime.\n",
        "\n",
        "However, there are some ways to achieve similar behavior in Python:\n",
        "\n",
        "Using default parameter values:\n",
        "You can define a method with default parameter values, such that if fewer arguments are passed to the method, it still runs without error."
      ],
      "metadata": {
        "id": "8bWbCC6PBdvw"
      }
    },
    {
      "cell_type": "code",
      "source": [
        "class MyClass:\n",
        "    def my_method(self, arg1, arg2=None):\n",
        "        if arg2 is None:\n",
        "            # do something with arg1\n",
        "        else:\n",
        "            # do something with both arg1 and arg2\n"
      ],
      "metadata": {
        "colab": {
          "base_uri": "https://localhost:8080/",
          "height": 134
        },
        "id": "qMNRGgTXBwB_",
        "outputId": "4f3f7e82-3c26-48fb-c85d-1cf82e42a6c8"
      },
      "execution_count": null,
      "outputs": [
        {
          "output_type": "error",
          "ename": "IndentationError",
          "evalue": "ignored",
          "traceback": [
            "\u001b[0;36m  File \u001b[0;32m\"<ipython-input-1-e0ae833289b4>\"\u001b[0;36m, line \u001b[0;32m5\u001b[0m\n\u001b[0;31m    else:\u001b[0m\n\u001b[0m    ^\u001b[0m\n\u001b[0;31mIndentationError\u001b[0m\u001b[0;31m:\u001b[0m expected an indented block after 'if' statement on line 3\n"
          ]
        }
      ]
    },
    {
      "cell_type": "markdown",
      "source": [
        "In this example, my_method can be called with either one or two arguments.\n",
        "\n",
        "Using variable-length argument lists:\n",
        "You can define a method with variable-length argument lists, using the *args and **kwargs syntax."
      ],
      "metadata": {
        "id": "B20igg58B9ZA"
      }
    },
    {
      "cell_type": "code",
      "source": [
        "class MyClass:\n",
        "    def my_method(self, *args):\n",
        "        if len(args) == 1:\n",
        "            # do something with arg1\n",
        "        elif len(args) == 2:\n",
        "            # do something with both arg1 and arg2\n"
      ],
      "metadata": {
        "colab": {
          "base_uri": "https://localhost:8080/",
          "height": 134
        },
        "id": "G-kG9p9LCBNZ",
        "outputId": "2ba15f62-88dc-42aa-ffac-3237e050ff1c"
      },
      "execution_count": null,
      "outputs": [
        {
          "output_type": "error",
          "ename": "IndentationError",
          "evalue": "ignored",
          "traceback": [
            "\u001b[0;36m  File \u001b[0;32m\"<ipython-input-2-1d93683df5db>\"\u001b[0;36m, line \u001b[0;32m5\u001b[0m\n\u001b[0;31m    elif len(args) == 2:\u001b[0m\n\u001b[0m    ^\u001b[0m\n\u001b[0;31mIndentationError\u001b[0m\u001b[0;31m:\u001b[0m expected an indented block after 'if' statement on line 3\n"
          ]
        }
      ]
    },
    {
      "cell_type": "markdown",
      "source": [
        "In this example, my_method can be called with any number of arguments.\n",
        "\n",
        "Using function annotations:\n",
        "You can use function annotations to specify the types of arguments a method expects."
      ],
      "metadata": {
        "id": "esoSbamBCL_T"
      }
    },
    {
      "cell_type": "code",
      "source": [
        "class MyClass:\n",
        "    def my_method(self, arg1: int, arg2: str):\n",
        "        # do something with arg1 and arg2\n"
      ],
      "metadata": {
        "id": "PFvjyN8uCSRo"
      },
      "execution_count": null,
      "outputs": []
    },
    {
      "cell_type": "markdown",
      "source": [
        "In this example, my_method expects an integer and a string as arguments. However, this does not actually enforce the types at runtime.\n",
        "\n",
        "Note that while these methods provide some level of flexibility, they are not true method overloading as seen in other languages. It is generally recommended to use descriptive method names instead of overloading, to improve code readability."
      ],
      "metadata": {
        "id": "inQmDJh3CTEH"
      }
    }
  ]
}